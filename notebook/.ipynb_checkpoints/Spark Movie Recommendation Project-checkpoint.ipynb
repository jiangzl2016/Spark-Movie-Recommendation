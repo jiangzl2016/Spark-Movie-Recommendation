{
 "cells": [
  {
   "cell_type": "code",
   "execution_count": 1,
   "metadata": {
    "collapsed": true
   },
   "outputs": [],
   "source": [
    "import numpy as np\n",
    "import pandas as pd\n",
    "import seaborn as sns\n",
    "import matplotlib.pyplot as plt\n",
    "import math\n",
    "%matplotlib inline"
   ]
  },
  {
   "cell_type": "code",
   "execution_count": 2,
   "metadata": {
    "collapsed": false
   },
   "outputs": [
    {
     "name": "stdout",
     "output_type": "stream",
     "text": [
      "Requirement already satisfied: findspark in /Users/zhonglingjiang/anaconda/lib/python3.5/site-packages\r\n"
     ]
    }
   ],
   "source": [
    "#!pip install findspark"
   ]
  },
  {
   "cell_type": "code",
   "execution_count": 2,
   "metadata": {
    "collapsed": false
   },
   "outputs": [],
   "source": [
    "import os\n",
    "import findspark\n",
    "os.environ[\"PYSPARK_PYTHON\"] = \"python3\"\n",
    "findspark.init(\"../../spark-2.2.0-bin-hadoop2.7\",)"
   ]
  },
  {
   "cell_type": "markdown",
   "metadata": {},
   "source": [
    "## Data ETL and Data Exploration"
   ]
  },
  {
   "cell_type": "code",
   "execution_count": 3,
   "metadata": {
    "collapsed": false
   },
   "outputs": [],
   "source": [
    "from pyspark.sql import SparkSession, Column, Row, functions as F "
   ]
  },
  {
   "cell_type": "code",
   "execution_count": 4,
   "metadata": {
    "collapsed": true
   },
   "outputs": [],
   "source": [
    "spark = (\n",
    "    SparkSession.builder\n",
    "        .master(\"local[*]\")\n",
    "        .appName(\"Spark Movie Recommendation Project\")\n",
    "        .getOrCreate()\n",
    ")\n",
    "sc = spark.sparkContext"
   ]
  },
  {
   "cell_type": "code",
   "execution_count": 33,
   "metadata": {
    "collapsed": false
   },
   "outputs": [],
   "source": [
    "movies = spark.read.load(\"../data/ml-latest-small/movies.csv\", format='csv', header = True)\n",
    "ratings = spark.read.load(\"../data/ml-latest-small/ratings.csv\", format='csv', header = True)\n",
    "links = spark.read.load(\"../data/ml-latest-small/links.csv\",format='csv', header = True)\n",
    "tags = spark.read.load(\"../data/ml-latest-small/tags.csv\",format='csv', header = True)"
   ]
  },
  {
   "cell_type": "code",
   "execution_count": 34,
   "metadata": {
    "collapsed": false
   },
   "outputs": [
    {
     "name": "stdout",
     "output_type": "stream",
     "text": [
      "+-------+--------------------+--------------------+\n",
      "|movieId|               title|              genres|\n",
      "+-------+--------------------+--------------------+\n",
      "|      1|    Toy Story (1995)|Adventure|Animati...|\n",
      "|      2|      Jumanji (1995)|Adventure|Childre...|\n",
      "|      3|Grumpier Old Men ...|      Comedy|Romance|\n",
      "|      4|Waiting to Exhale...|Comedy|Drama|Romance|\n",
      "|      5|Father of the Bri...|              Comedy|\n",
      "+-------+--------------------+--------------------+\n",
      "only showing top 5 rows\n",
      "\n"
     ]
    }
   ],
   "source": [
    "movies.show(5)"
   ]
  },
  {
   "cell_type": "code",
   "execution_count": 35,
   "metadata": {
    "collapsed": false
   },
   "outputs": [
    {
     "name": "stdout",
     "output_type": "stream",
     "text": [
      "+------+-------+------+----------+\n",
      "|userId|movieId|rating| timestamp|\n",
      "+------+-------+------+----------+\n",
      "|     1|     31|   2.5|1260759144|\n",
      "|     1|   1029|   3.0|1260759179|\n",
      "|     1|   1061|   3.0|1260759182|\n",
      "|     1|   1129|   2.0|1260759185|\n",
      "|     1|   1172|   4.0|1260759205|\n",
      "+------+-------+------+----------+\n",
      "only showing top 5 rows\n",
      "\n"
     ]
    }
   ],
   "source": [
    "ratings.show(5)"
   ]
  },
  {
   "cell_type": "code",
   "execution_count": 36,
   "metadata": {
    "collapsed": false
   },
   "outputs": [
    {
     "name": "stdout",
     "output_type": "stream",
     "text": [
      "+-------+-------+------+\n",
      "|movieId| imdbId|tmdbId|\n",
      "+-------+-------+------+\n",
      "|      1|0114709|   862|\n",
      "|      2|0113497|  8844|\n",
      "|      3|0113228| 15602|\n",
      "|      4|0114885| 31357|\n",
      "|      5|0113041| 11862|\n",
      "+-------+-------+------+\n",
      "only showing top 5 rows\n",
      "\n"
     ]
    }
   ],
   "source": [
    "links.show(5)"
   ]
  },
  {
   "cell_type": "code",
   "execution_count": 37,
   "metadata": {
    "collapsed": false
   },
   "outputs": [
    {
     "name": "stdout",
     "output_type": "stream",
     "text": [
      "+------+-------+--------------------+----------+\n",
      "|userId|movieId|                 tag| timestamp|\n",
      "+------+-------+--------------------+----------+\n",
      "|    15|    339|sandra 'boring' b...|1138537770|\n",
      "|    15|   1955|             dentist|1193435061|\n",
      "|    15|   7478|            Cambodia|1170560997|\n",
      "|    15|  32892|             Russian|1170626366|\n",
      "|    15|  34162|         forgettable|1141391765|\n",
      "+------+-------+--------------------+----------+\n",
      "only showing top 5 rows\n",
      "\n"
     ]
    }
   ],
   "source": [
    "tags.show(5)"
   ]
  },
  {
   "cell_type": "markdown",
   "metadata": {},
   "source": [
    "### Q1: The number of Users"
   ]
  },
  {
   "cell_type": "code",
   "execution_count": 50,
   "metadata": {
    "collapsed": false
   },
   "outputs": [
    {
     "data": {
      "text/plain": [
       "671"
      ]
     },
     "execution_count": 50,
     "metadata": {},
     "output_type": "execute_result"
    }
   ],
   "source": [
    "ratings.select('userId').union(tags.select('userId')).distinct().count()"
   ]
  },
  {
   "cell_type": "markdown",
   "metadata": {},
   "source": [
    "### Q2: The number of Movies"
   ]
  },
  {
   "cell_type": "code",
   "execution_count": 49,
   "metadata": {
    "collapsed": false
   },
   "outputs": [
    {
     "data": {
      "text/plain": [
       "9125"
      ]
     },
     "execution_count": 49,
     "metadata": {},
     "output_type": "execute_result"
    }
   ],
   "source": [
    "ratings.select('movieId').union(tags.select('movieId')).distinct().count()"
   ]
  },
  {
   "cell_type": "markdown",
   "metadata": {},
   "source": [
    "### Q3:  How many movies are rated by users? List movies not rated before"
   ]
  },
  {
   "cell_type": "code",
   "execution_count": 51,
   "metadata": {
    "collapsed": false
   },
   "outputs": [
    {
     "data": {
      "text/plain": [
       "9066"
      ]
     },
     "execution_count": 51,
     "metadata": {},
     "output_type": "execute_result"
    }
   ],
   "source": [
    "num_movies_rated = ratings.select('movieId').distinct().count()\n",
    "num_movies_rated"
   ]
  },
  {
   "cell_type": "code",
   "execution_count": 55,
   "metadata": {
    "collapsed": false
   },
   "outputs": [
    {
     "name": "stdout",
     "output_type": "stream",
     "text": [
      "+-------+\n",
      "|movieId|\n",
      "+-------+\n",
      "| 144172|\n",
      "|  94969|\n",
      "| 132547|\n",
      "|   7335|\n",
      "| 110871|\n",
      "|   5984|\n",
      "| 131796|\n",
      "| 132800|\n",
      "| 128235|\n",
      "|  39421|\n",
      "|  82313|\n",
      "| 111251|\n",
      "|  42217|\n",
      "| 132549|\n",
      "|   8767|\n",
      "| 161582|\n",
      "| 155064|\n",
      "| 111249|\n",
      "|  48711|\n",
      "| 132458|\n",
      "+-------+\n",
      "only showing top 20 rows\n",
      "\n"
     ]
    }
   ],
   "source": [
    "all_movies = ratings.select('movieId').union(tags.select('movieId'))\n",
    "rated = ratings.select('movieId')\n",
    "not_rated = all_movies.subtract(rated)\n",
    "not_rated.distinct().show()"
   ]
  },
  {
   "cell_type": "markdown",
   "metadata": {},
   "source": [
    "### Q4: List Movie Genres"
   ]
  },
  {
   "cell_type": "code",
   "execution_count": 61,
   "metadata": {
    "collapsed": false
   },
   "outputs": [
    {
     "name": "stdout",
     "output_type": "stream",
     "text": [
      "+--------------------+\n",
      "|              genres|\n",
      "+--------------------+\n",
      "|Comedy|Horror|Thr...|\n",
      "|Adventure|Sci-Fi|...|\n",
      "|Action|Adventure|...|\n",
      "| Action|Drama|Horror|\n",
      "|Comedy|Drama|Horr...|\n",
      "|Action|Animation|...|\n",
      "|Animation|Childre...|\n",
      "|Action|Adventure|...|\n",
      "| Adventure|Animation|\n",
      "|    Adventure|Sci-Fi|\n",
      "|Documentary|Music...|\n",
      "|Adventure|Childre...|\n",
      "|  Documentary|Sci-Fi|\n",
      "| Musical|Romance|War|\n",
      "|Action|Adventure|...|\n",
      "|Adventure|Childre...|\n",
      "|Crime|Drama|Fanta...|\n",
      "|Comedy|Mystery|Th...|\n",
      "|   Adventure|Fantasy|\n",
      "|Action|Animation|...|\n",
      "+--------------------+\n",
      "only showing top 20 rows\n",
      "\n"
     ]
    }
   ],
   "source": [
    "#movies.select('genres').map(lambda x: x[0].split('|')) ????? does not work\n",
    "movies.select('genres').distinct().show()"
   ]
  },
  {
   "cell_type": "markdown",
   "metadata": {},
   "source": [
    "### Q5: Movie for Each Category"
   ]
  },
  {
   "cell_type": "code",
   "execution_count": null,
   "metadata": {
    "collapsed": true
   },
   "outputs": [],
   "source": []
  },
  {
   "cell_type": "markdown",
   "metadata": {},
   "source": [
    "# Prepare Data for Training"
   ]
  },
  {
   "cell_type": "code",
   "execution_count": 11,
   "metadata": {
    "collapsed": true
   },
   "outputs": [],
   "source": [
    "from pyspark.mllib.recommendation import ALS,MatrixFactorizationModel, Rating"
   ]
  },
  {
   "cell_type": "code",
   "execution_count": 12,
   "metadata": {
    "collapsed": true
   },
   "outputs": [],
   "source": [
    "movie_rating = sc.textFile(\"../data/ml-latest-small/ratings.csv\")"
   ]
  },
  {
   "cell_type": "code",
   "execution_count": 13,
   "metadata": {
    "collapsed": false
   },
   "outputs": [],
   "source": [
    "header = movie_rating.take(1)[0]\n",
    "rating_data = movie_rating.filter(lambda line: line!=header).map(lambda line: line.split(\",\")).map(lambda tokens: (tokens[0],tokens[1],tokens[2])).cache()"
   ]
  },
  {
   "cell_type": "code",
   "execution_count": 14,
   "metadata": {
    "collapsed": false
   },
   "outputs": [
    {
     "data": {
      "text/plain": [
       "[('1', '31', '2.5'), ('1', '1029', '3.0'), ('1', '1061', '3.0')]"
      ]
     },
     "execution_count": 14,
     "metadata": {},
     "output_type": "execute_result"
    }
   ],
   "source": [
    "rating_data.take(3)"
   ]
  },
  {
   "cell_type": "code",
   "execution_count": 15,
   "metadata": {
    "collapsed": false
   },
   "outputs": [],
   "source": [
    "train, validation, test = rating_data.randomSplit([6,2,2],seed = 7856)"
   ]
  },
  {
   "cell_type": "code",
   "execution_count": 16,
   "metadata": {
    "collapsed": false
   },
   "outputs": [
    {
     "data": {
      "text/plain": [
       "PythonRDD[52] at RDD at PythonRDD.scala:48"
      ]
     },
     "execution_count": 16,
     "metadata": {},
     "output_type": "execute_result"
    }
   ],
   "source": [
    "train.cache()"
   ]
  },
  {
   "cell_type": "code",
   "execution_count": 17,
   "metadata": {
    "collapsed": false
   },
   "outputs": [
    {
     "data": {
      "text/plain": [
       "PythonRDD[53] at RDD at PythonRDD.scala:48"
      ]
     },
     "execution_count": 17,
     "metadata": {},
     "output_type": "execute_result"
    }
   ],
   "source": [
    "test.cache()"
   ]
  },
  {
   "cell_type": "code",
   "execution_count": 18,
   "metadata": {
    "collapsed": false
   },
   "outputs": [
    {
     "data": {
      "text/plain": [
       "PythonRDD[54] at RDD at PythonRDD.scala:48"
      ]
     },
     "execution_count": 18,
     "metadata": {},
     "output_type": "execute_result"
    }
   ],
   "source": [
    "validation.cache()"
   ]
  },
  {
   "cell_type": "code",
   "execution_count": 27,
   "metadata": {
    "collapsed": true
   },
   "outputs": [],
   "source": [
    "test_RDD = test.map(lambda x: (x[0], x[1]))"
   ]
  },
  {
   "cell_type": "markdown",
   "metadata": {},
   "source": [
    "# Training Step"
   ]
  },
  {
   "cell_type": "code",
   "execution_count": 19,
   "metadata": {
    "collapsed": false
   },
   "outputs": [],
   "source": [
    "num_iterations = 10\n",
    "ranks = [4,6,8,10]\n",
    "reg_params = [0.005,0.01, 0.05, 0.1, 0.2]\n",
    "all_errors = []\n",
    "def train_ALS(train_data, validation_data, \n",
    "              num_iters, reg_param, ranks, all_errors):\n",
    "    min_error = float('inf')\n",
    "    best_rank = -1\n",
    "    best_regularization = 0\n",
    "    for rank in ranks:\n",
    "        for reg in reg_param:\n",
    "            model = ALS.train(train_data, rank, iterations = num_iters, lambda_ = reg)\n",
    "            predictions = model.predictAll(validation_data.map(lambda x: (x[0], x[1])))\n",
    "            predictions = predictions.map(lambda x: ((x[0], x[1]), x[2]))\n",
    "            rate_and_preds = validation_data.map(lambda x: ((int(x[0]), int(x[1])), float(x[2]))).join(predictions)\n",
    "            error = math.sqrt(rate_and_preds.map(lambda r: (r[1][0] - r[1][1])**2).mean())\n",
    "            all_errors.append(error)\n",
    "            print ('The rank %s and regularization %s has error %s' % (rank, reg, error))\n",
    "            if error < min_error:\n",
    "                min_error = error\n",
    "                best_rank = rank\n",
    "                best_regularization = reg\n",
    "    print ('The best model is rank %s with regularization %s' % (best_rank, best_regularization))\n",
    "    return all_errors"
   ]
  },
  {
   "cell_type": "code",
   "execution_count": 20,
   "metadata": {
    "collapsed": false,
    "scrolled": true
   },
   "outputs": [
    {
     "name": "stdout",
     "output_type": "stream",
     "text": [
      "The rank 4 and regularization 0.005 has error 1.1515068374101347\n",
      "The rank 4 and regularization 0.01 has error 1.101216032563203\n",
      "The rank 4 and regularization 0.05 has error 0.9939169633425827\n",
      "The rank 4 and regularization 0.1 has error 0.9389824403856298\n",
      "The rank 4 and regularization 0.2 has error 0.928869759990465\n",
      "The rank 6 and regularization 0.005 has error 1.1892308206213413\n",
      "The rank 6 and regularization 0.01 has error 1.1530171720004954\n",
      "The rank 6 and regularization 0.05 has error 1.0199963148665374\n",
      "The rank 6 and regularization 0.1 has error 0.9452470506622955\n",
      "The rank 6 and regularization 0.2 has error 0.9246506294296363\n",
      "The rank 8 and regularization 0.005 has error 1.292682127181308\n",
      "The rank 8 and regularization 0.01 has error 1.2328705177018204\n",
      "The rank 8 and regularization 0.05 has error 1.0330165946100194\n",
      "The rank 8 and regularization 0.1 has error 0.9534565256850409\n",
      "The rank 8 and regularization 0.2 has error 0.9254819148717985\n",
      "The rank 10 and regularization 0.005 has error 1.3326478797170918\n",
      "The rank 10 and regularization 0.01 has error 1.2550113622933003\n",
      "The rank 10 and regularization 0.05 has error 1.0385154080658179\n",
      "The rank 10 and regularization 0.1 has error 0.9522246802278894\n",
      "The rank 10 and regularization 0.2 has error 0.9245870119771291\n",
      "The best model is rank 10 with regularization 0.2\n"
     ]
    },
    {
     "data": {
      "text/plain": [
       "[1.1515068374101347,\n",
       " 1.101216032563203,\n",
       " 0.9939169633425827,\n",
       " 0.9389824403856298,\n",
       " 0.928869759990465,\n",
       " 1.1892308206213413,\n",
       " 1.1530171720004954,\n",
       " 1.0199963148665374,\n",
       " 0.9452470506622955,\n",
       " 0.9246506294296363,\n",
       " 1.292682127181308,\n",
       " 1.2328705177018204,\n",
       " 1.0330165946100194,\n",
       " 0.9534565256850409,\n",
       " 0.9254819148717985,\n",
       " 1.3326478797170918,\n",
       " 1.2550113622933003,\n",
       " 1.0385154080658179,\n",
       " 0.9522246802278894,\n",
       " 0.9245870119771291]"
      ]
     },
     "execution_count": 20,
     "metadata": {},
     "output_type": "execute_result"
    }
   ],
   "source": [
    "train_ALS(train, validation, num_iterations,reg_params, ranks, all_errors)"
   ]
  },
  {
   "cell_type": "code",
   "execution_count": 21,
   "metadata": {
    "collapsed": false,
    "scrolled": true
   },
   "outputs": [
    {
     "name": "stdout",
     "output_type": "stream",
     "text": [
      "The rank 6 and regularization 0.1 has error 0.9548362655290386\n",
      "The rank 6 and regularization 0.2 has error 0.9242203211600902\n",
      "The rank 6 and regularization 0.3 has error 0.9485718236156073\n",
      "The rank 6 and regularization 0.4 has error 0.9884530799657907\n",
      "The rank 8 and regularization 0.1 has error 0.948657559865619\n",
      "The rank 8 and regularization 0.2 has error 0.9241639812185355\n",
      "The rank 8 and regularization 0.3 has error 0.9487247530067183\n",
      "The rank 8 and regularization 0.4 has error 0.9885909658545506\n",
      "The rank 10 and regularization 0.1 has error 0.9573066938701698\n",
      "The rank 10 and regularization 0.2 has error 0.9270865965905998\n",
      "The rank 10 and regularization 0.3 has error 0.948070300396319\n",
      "The rank 10 and regularization 0.4 has error 0.9881652388367489\n",
      "The rank 12 and regularization 0.1 has error 0.9519413609712789\n",
      "The rank 12 and regularization 0.2 has error 0.9260401598318719\n",
      "The rank 12 and regularization 0.3 has error 0.9482798930538371\n",
      "The rank 12 and regularization 0.4 has error 0.9880315452108321\n",
      "The best model is rank 8 with regularization 0.2\n"
     ]
    },
    {
     "data": {
      "text/plain": [
       "[1.1515068374101347,\n",
       " 1.101216032563203,\n",
       " 0.9939169633425827,\n",
       " 0.9389824403856298,\n",
       " 0.928869759990465,\n",
       " 1.1892308206213413,\n",
       " 1.1530171720004954,\n",
       " 1.0199963148665374,\n",
       " 0.9452470506622955,\n",
       " 0.9246506294296363,\n",
       " 1.292682127181308,\n",
       " 1.2328705177018204,\n",
       " 1.0330165946100194,\n",
       " 0.9534565256850409,\n",
       " 0.9254819148717985,\n",
       " 1.3326478797170918,\n",
       " 1.2550113622933003,\n",
       " 1.0385154080658179,\n",
       " 0.9522246802278894,\n",
       " 0.9245870119771291,\n",
       " 0.9548362655290386,\n",
       " 0.9242203211600902,\n",
       " 0.9485718236156073,\n",
       " 0.9884530799657907,\n",
       " 0.948657559865619,\n",
       " 0.9241639812185355,\n",
       " 0.9487247530067183,\n",
       " 0.9885909658545506,\n",
       " 0.9573066938701698,\n",
       " 0.9270865965905998,\n",
       " 0.948070300396319,\n",
       " 0.9881652388367489,\n",
       " 0.9519413609712789,\n",
       " 0.9260401598318719,\n",
       " 0.9482798930538371,\n",
       " 0.9880315452108321]"
      ]
     },
     "execution_count": 21,
     "metadata": {},
     "output_type": "execute_result"
    }
   ],
   "source": [
    "ranks = [6, 8, 10, 12]\n",
    "reg_params = [0.1, 0.2, 0.3, 0.4]\n",
    "num_iterations = 15\n",
    "train_ALS(train, validation, num_iterations,reg_params, ranks, all_errors)"
   ]
  },
  {
   "cell_type": "markdown",
   "metadata": {},
   "source": [
    "## The Model Selection and Evaluation\n",
    "\n",
    "From previous two training steps, we could basically find that the model with 8 latent factors and lambda = 0.2, by iterating over 15 times yields the best result."
   ]
  },
  {
   "cell_type": "code",
   "execution_count": 28,
   "metadata": {
    "collapsed": false
   },
   "outputs": [
    {
     "name": "stdout",
     "output_type": "stream",
     "text": [
      "For testing data the error is 0.9180982046078183\n"
     ]
    }
   ],
   "source": [
    "best_rank = 8\n",
    "iterations = 15\n",
    "reg = 0.2\n",
    "final_model = ALS.train(train, best_rank, iterations=iterations,\n",
    "                      lambda_=reg)\n",
    "predictions = final_model.predictAll(test_RDD).map(lambda r: ((r[0], r[1]), r[2]))\n",
    "rates_and_preds = test.map(lambda r: ((int(r[0]), int(r[1])), float(r[2]))).join(predictions)\n",
    "error = math.sqrt(rates_and_preds.map(lambda r: (r[1][0] - r[1][1])**2).mean())\n",
    "print ('For testing data the error is %s' % (error))"
   ]
  },
  {
   "cell_type": "code",
   "execution_count": null,
   "metadata": {
    "collapsed": true
   },
   "outputs": [],
   "source": []
  }
 ],
 "metadata": {
  "kernelspec": {
   "display_name": "Python 3",
   "language": "python",
   "name": "python3"
  },
  "language_info": {
   "codemirror_mode": {
    "name": "ipython",
    "version": 3
   },
   "file_extension": ".py",
   "mimetype": "text/x-python",
   "name": "python",
   "nbconvert_exporter": "python",
   "pygments_lexer": "ipython3",
   "version": "3.5.4"
  }
 },
 "nbformat": 4,
 "nbformat_minor": 2
}
